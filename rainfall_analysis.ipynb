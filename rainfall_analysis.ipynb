{
 "cells": [
  {
   "cell_type": "code",
   "execution_count": 1,
   "metadata": {},
   "outputs": [],
   "source": [
    "import matplotlib.pyplot as plt\n",
    "import pandas as pd"
   ]
  },
  {
   "cell_type": "markdown",
   "metadata": {},
   "source": [
    "Source:India Meterological Department/Ministry of Earth Science/Govt. of india"
   ]
  },
  {
   "cell_type": "code",
   "execution_count": 2,
   "metadata": {},
   "outputs": [],
   "source": [
    "data = pd.read_excel('data/daily.xlsx')"
   ]
  },
  {
   "cell_type": "code",
   "execution_count": 3,
   "metadata": {},
   "outputs": [
    {
     "name": "stdout",
     "output_type": "stream",
     "text": [
      "Collecting xlrd\n",
      "  Using cached https://files.pythonhosted.org/packages/b0/16/63576a1a001752e34bf8ea62e367997530dc553b689356b9879339cf45a4/xlrd-1.2.0-py2.py3-none-any.whl\n",
      "Installing collected packages: xlrd\n",
      "Successfully installed xlrd-1.2.0\n"
     ]
    }
   ],
   "source": [
    "!pip3 install xlrd"
   ]
  },
  {
   "cell_type": "code",
   "execution_count": 4,
   "metadata": {},
   "outputs": [
    {
     "data": {
      "text/html": [
       "<div>\n",
       "<style scoped>\n",
       "    .dataframe tbody tr th:only-of-type {\n",
       "        vertical-align: middle;\n",
       "    }\n",
       "\n",
       "    .dataframe tbody tr th {\n",
       "        vertical-align: top;\n",
       "    }\n",
       "\n",
       "    .dataframe thead th {\n",
       "        text-align: right;\n",
       "    }\n",
       "</style>\n",
       "<table border=\"1\" class=\"dataframe\">\n",
       "  <thead>\n",
       "    <tr style=\"text-align: right;\">\n",
       "      <th></th>\n",
       "      <th>rainfall (mm/day)</th>\n",
       "      <th>PET (mm/day)</th>\n",
       "      <th>Q (mm/day)</th>\n",
       "      <th>avg Temperature</th>\n",
       "      <th>Date</th>\n",
       "      <th>Unnamed: 5</th>\n",
       "      <th>Unnamed: 6</th>\n",
       "    </tr>\n",
       "  </thead>\n",
       "  <tbody>\n",
       "    <tr>\n",
       "      <th>0</th>\n",
       "      <td>NaN</td>\n",
       "      <td>NaN</td>\n",
       "      <td>NaN</td>\n",
       "      <td>NaN</td>\n",
       "      <td>1951</td>\n",
       "      <td>1</td>\n",
       "      <td>1</td>\n",
       "    </tr>\n",
       "    <tr>\n",
       "      <th>1</th>\n",
       "      <td>NaN</td>\n",
       "      <td>NaN</td>\n",
       "      <td>NaN</td>\n",
       "      <td>NaN</td>\n",
       "      <td>1951</td>\n",
       "      <td>1</td>\n",
       "      <td>2</td>\n",
       "    </tr>\n",
       "    <tr>\n",
       "      <th>2</th>\n",
       "      <td>NaN</td>\n",
       "      <td>NaN</td>\n",
       "      <td>NaN</td>\n",
       "      <td>NaN</td>\n",
       "      <td>1951</td>\n",
       "      <td>1</td>\n",
       "      <td>3</td>\n",
       "    </tr>\n",
       "    <tr>\n",
       "      <th>3</th>\n",
       "      <td>NaN</td>\n",
       "      <td>NaN</td>\n",
       "      <td>NaN</td>\n",
       "      <td>NaN</td>\n",
       "      <td>1951</td>\n",
       "      <td>1</td>\n",
       "      <td>4</td>\n",
       "    </tr>\n",
       "    <tr>\n",
       "      <th>4</th>\n",
       "      <td>NaN</td>\n",
       "      <td>NaN</td>\n",
       "      <td>NaN</td>\n",
       "      <td>NaN</td>\n",
       "      <td>1951</td>\n",
       "      <td>1</td>\n",
       "      <td>5</td>\n",
       "    </tr>\n",
       "    <tr>\n",
       "      <th>...</th>\n",
       "      <td>...</td>\n",
       "      <td>...</td>\n",
       "      <td>...</td>\n",
       "      <td>...</td>\n",
       "      <td>...</td>\n",
       "      <td>...</td>\n",
       "      <td>...</td>\n",
       "    </tr>\n",
       "    <tr>\n",
       "      <th>23371</th>\n",
       "      <td>0.0</td>\n",
       "      <td>3.646389</td>\n",
       "      <td>0.033444</td>\n",
       "      <td>19.805</td>\n",
       "      <td>2014</td>\n",
       "      <td>12</td>\n",
       "      <td>27</td>\n",
       "    </tr>\n",
       "    <tr>\n",
       "      <th>23372</th>\n",
       "      <td>0.0</td>\n",
       "      <td>3.794536</td>\n",
       "      <td>0.032650</td>\n",
       "      <td>19.525</td>\n",
       "      <td>2014</td>\n",
       "      <td>12</td>\n",
       "      <td>28</td>\n",
       "    </tr>\n",
       "    <tr>\n",
       "      <th>23373</th>\n",
       "      <td>0.0</td>\n",
       "      <td>3.897361</td>\n",
       "      <td>0.031907</td>\n",
       "      <td>19.535</td>\n",
       "      <td>2014</td>\n",
       "      <td>12</td>\n",
       "      <td>29</td>\n",
       "    </tr>\n",
       "    <tr>\n",
       "      <th>23374</th>\n",
       "      <td>0.0</td>\n",
       "      <td>3.752435</td>\n",
       "      <td>0.031208</td>\n",
       "      <td>19.695</td>\n",
       "      <td>2014</td>\n",
       "      <td>12</td>\n",
       "      <td>30</td>\n",
       "    </tr>\n",
       "    <tr>\n",
       "      <th>23375</th>\n",
       "      <td>0.0</td>\n",
       "      <td>3.521435</td>\n",
       "      <td>0.000000</td>\n",
       "      <td>20.730</td>\n",
       "      <td>2014</td>\n",
       "      <td>12</td>\n",
       "      <td>31</td>\n",
       "    </tr>\n",
       "  </tbody>\n",
       "</table>\n",
       "<p>23376 rows × 7 columns</p>\n",
       "</div>"
      ],
      "text/plain": [
       "       rainfall (mm/day)  PET (mm/day)  Q (mm/day)  avg Temperature  Date   \\\n",
       "0                    NaN           NaN         NaN              NaN   1951   \n",
       "1                    NaN           NaN         NaN              NaN   1951   \n",
       "2                    NaN           NaN         NaN              NaN   1951   \n",
       "3                    NaN           NaN         NaN              NaN   1951   \n",
       "4                    NaN           NaN         NaN              NaN   1951   \n",
       "...                  ...           ...         ...              ...    ...   \n",
       "23371                0.0      3.646389    0.033444           19.805   2014   \n",
       "23372                0.0      3.794536    0.032650           19.525   2014   \n",
       "23373                0.0      3.897361    0.031907           19.535   2014   \n",
       "23374                0.0      3.752435    0.031208           19.695   2014   \n",
       "23375                0.0      3.521435    0.000000           20.730   2014   \n",
       "\n",
       "       Unnamed: 5  Unnamed: 6  \n",
       "0               1           1  \n",
       "1               1           2  \n",
       "2               1           3  \n",
       "3               1           4  \n",
       "4               1           5  \n",
       "...           ...         ...  \n",
       "23371          12          27  \n",
       "23372          12          28  \n",
       "23373          12          29  \n",
       "23374          12          30  \n",
       "23375          12          31  \n",
       "\n",
       "[23376 rows x 7 columns]"
      ]
     },
     "execution_count": 4,
     "metadata": {},
     "output_type": "execute_result"
    }
   ],
   "source": [
    "data"
   ]
  },
  {
   "cell_type": "code",
   "execution_count": 5,
   "metadata": {},
   "outputs": [
    {
     "data": {
      "text/plain": [
       "Index(['rainfall (mm/day)', 'PET (mm/day)', 'Q (mm/day)', 'avg Temperature',\n",
       "       'Date ', 'Unnamed: 5', 'Unnamed: 6'],\n",
       "      dtype='object')"
      ]
     },
     "execution_count": 5,
     "metadata": {},
     "output_type": "execute_result"
    }
   ],
   "source": [
    "data.columns"
   ]
  },
  {
   "cell_type": "markdown",
   "metadata": {},
   "source": [
    "About variables:\n",
    "Rainfall:\n",
    "PET\n",
    "Q\n",
    "avg Temp\n",
    "Date\n"
   ]
  },
  {
   "cell_type": "code",
   "execution_count": 6,
   "metadata": {},
   "outputs": [],
   "source": [
    "data.columns = ['Rainfall', 'PET (mm/day)', 'Q (mm/day)', 'Temperature',\n",
    "       'Year', 'Month', 'Day']"
   ]
  },
  {
   "cell_type": "code",
   "execution_count": 7,
   "metadata": {},
   "outputs": [
    {
     "data": {
      "text/html": [
       "<div>\n",
       "<style scoped>\n",
       "    .dataframe tbody tr th:only-of-type {\n",
       "        vertical-align: middle;\n",
       "    }\n",
       "\n",
       "    .dataframe tbody tr th {\n",
       "        vertical-align: top;\n",
       "    }\n",
       "\n",
       "    .dataframe thead th {\n",
       "        text-align: right;\n",
       "    }\n",
       "</style>\n",
       "<table border=\"1\" class=\"dataframe\">\n",
       "  <thead>\n",
       "    <tr style=\"text-align: right;\">\n",
       "      <th></th>\n",
       "      <th>Rainfall</th>\n",
       "      <th>PET (mm/day)</th>\n",
       "      <th>Q (mm/day)</th>\n",
       "      <th>Temperature</th>\n",
       "      <th>Year</th>\n",
       "      <th>Month</th>\n",
       "      <th>Day</th>\n",
       "    </tr>\n",
       "  </thead>\n",
       "  <tbody>\n",
       "    <tr>\n",
       "      <th>0</th>\n",
       "      <td>NaN</td>\n",
       "      <td>NaN</td>\n",
       "      <td>NaN</td>\n",
       "      <td>NaN</td>\n",
       "      <td>1951</td>\n",
       "      <td>1</td>\n",
       "      <td>1</td>\n",
       "    </tr>\n",
       "    <tr>\n",
       "      <th>1</th>\n",
       "      <td>NaN</td>\n",
       "      <td>NaN</td>\n",
       "      <td>NaN</td>\n",
       "      <td>NaN</td>\n",
       "      <td>1951</td>\n",
       "      <td>1</td>\n",
       "      <td>2</td>\n",
       "    </tr>\n",
       "  </tbody>\n",
       "</table>\n",
       "</div>"
      ],
      "text/plain": [
       "   Rainfall  PET (mm/day)  Q (mm/day)  Temperature  Year  Month  Day\n",
       "0       NaN           NaN         NaN          NaN  1951      1    1\n",
       "1       NaN           NaN         NaN          NaN  1951      1    2"
      ]
     },
     "execution_count": 7,
     "metadata": {},
     "output_type": "execute_result"
    }
   ],
   "source": [
    "data.head(2)"
   ]
  },
  {
   "cell_type": "code",
   "execution_count": 8,
   "metadata": {},
   "outputs": [],
   "source": [
    "req_data = data[['Rainfall','Temperature',\n",
    "       'Year', 'Month', 'Day']]"
   ]
  },
  {
   "cell_type": "code",
   "execution_count": 9,
   "metadata": {},
   "outputs": [],
   "source": [
    "df = req_data.loc[req_data['Year'] != 1951]"
   ]
  },
  {
   "cell_type": "code",
   "execution_count": 10,
   "metadata": {},
   "outputs": [
    {
     "data": {
      "text/html": [
       "<div>\n",
       "<style scoped>\n",
       "    .dataframe tbody tr th:only-of-type {\n",
       "        vertical-align: middle;\n",
       "    }\n",
       "\n",
       "    .dataframe tbody tr th {\n",
       "        vertical-align: top;\n",
       "    }\n",
       "\n",
       "    .dataframe thead th {\n",
       "        text-align: right;\n",
       "    }\n",
       "</style>\n",
       "<table border=\"1\" class=\"dataframe\">\n",
       "  <thead>\n",
       "    <tr style=\"text-align: right;\">\n",
       "      <th></th>\n",
       "      <th>Rainfall</th>\n",
       "      <th>Temperature</th>\n",
       "      <th>Year</th>\n",
       "      <th>Month</th>\n",
       "      <th>Day</th>\n",
       "    </tr>\n",
       "  </thead>\n",
       "  <tbody>\n",
       "    <tr>\n",
       "      <th>365</th>\n",
       "      <td>0.0</td>\n",
       "      <td>21.140</td>\n",
       "      <td>1952</td>\n",
       "      <td>1</td>\n",
       "      <td>1</td>\n",
       "    </tr>\n",
       "    <tr>\n",
       "      <th>366</th>\n",
       "      <td>0.0</td>\n",
       "      <td>21.085</td>\n",
       "      <td>1952</td>\n",
       "      <td>1</td>\n",
       "      <td>2</td>\n",
       "    </tr>\n",
       "    <tr>\n",
       "      <th>367</th>\n",
       "      <td>0.0</td>\n",
       "      <td>21.020</td>\n",
       "      <td>1952</td>\n",
       "      <td>1</td>\n",
       "      <td>3</td>\n",
       "    </tr>\n",
       "    <tr>\n",
       "      <th>368</th>\n",
       "      <td>0.0</td>\n",
       "      <td>21.145</td>\n",
       "      <td>1952</td>\n",
       "      <td>1</td>\n",
       "      <td>4</td>\n",
       "    </tr>\n",
       "    <tr>\n",
       "      <th>369</th>\n",
       "      <td>0.0</td>\n",
       "      <td>21.390</td>\n",
       "      <td>1952</td>\n",
       "      <td>1</td>\n",
       "      <td>5</td>\n",
       "    </tr>\n",
       "    <tr>\n",
       "      <th>...</th>\n",
       "      <td>...</td>\n",
       "      <td>...</td>\n",
       "      <td>...</td>\n",
       "      <td>...</td>\n",
       "      <td>...</td>\n",
       "    </tr>\n",
       "    <tr>\n",
       "      <th>23371</th>\n",
       "      <td>0.0</td>\n",
       "      <td>19.805</td>\n",
       "      <td>2014</td>\n",
       "      <td>12</td>\n",
       "      <td>27</td>\n",
       "    </tr>\n",
       "    <tr>\n",
       "      <th>23372</th>\n",
       "      <td>0.0</td>\n",
       "      <td>19.525</td>\n",
       "      <td>2014</td>\n",
       "      <td>12</td>\n",
       "      <td>28</td>\n",
       "    </tr>\n",
       "    <tr>\n",
       "      <th>23373</th>\n",
       "      <td>0.0</td>\n",
       "      <td>19.535</td>\n",
       "      <td>2014</td>\n",
       "      <td>12</td>\n",
       "      <td>29</td>\n",
       "    </tr>\n",
       "    <tr>\n",
       "      <th>23374</th>\n",
       "      <td>0.0</td>\n",
       "      <td>19.695</td>\n",
       "      <td>2014</td>\n",
       "      <td>12</td>\n",
       "      <td>30</td>\n",
       "    </tr>\n",
       "    <tr>\n",
       "      <th>23375</th>\n",
       "      <td>0.0</td>\n",
       "      <td>20.730</td>\n",
       "      <td>2014</td>\n",
       "      <td>12</td>\n",
       "      <td>31</td>\n",
       "    </tr>\n",
       "  </tbody>\n",
       "</table>\n",
       "<p>23011 rows × 5 columns</p>\n",
       "</div>"
      ],
      "text/plain": [
       "       Rainfall  Temperature  Year  Month  Day\n",
       "365         0.0       21.140  1952      1    1\n",
       "366         0.0       21.085  1952      1    2\n",
       "367         0.0       21.020  1952      1    3\n",
       "368         0.0       21.145  1952      1    4\n",
       "369         0.0       21.390  1952      1    5\n",
       "...         ...          ...   ...    ...  ...\n",
       "23371       0.0       19.805  2014     12   27\n",
       "23372       0.0       19.525  2014     12   28\n",
       "23373       0.0       19.535  2014     12   29\n",
       "23374       0.0       19.695  2014     12   30\n",
       "23375       0.0       20.730  2014     12   31\n",
       "\n",
       "[23011 rows x 5 columns]"
      ]
     },
     "execution_count": 10,
     "metadata": {},
     "output_type": "execute_result"
    }
   ],
   "source": [
    "df"
   ]
  },
  {
   "cell_type": "code",
   "execution_count": 11,
   "metadata": {},
   "outputs": [],
   "source": [
    "df = df.round({\"Rainfall\":2, \"Temperature\":2}) "
   ]
  },
  {
   "cell_type": "code",
   "execution_count": 12,
   "metadata": {},
   "outputs": [
    {
     "data": {
      "text/html": [
       "<div>\n",
       "<style scoped>\n",
       "    .dataframe tbody tr th:only-of-type {\n",
       "        vertical-align: middle;\n",
       "    }\n",
       "\n",
       "    .dataframe tbody tr th {\n",
       "        vertical-align: top;\n",
       "    }\n",
       "\n",
       "    .dataframe thead th {\n",
       "        text-align: right;\n",
       "    }\n",
       "</style>\n",
       "<table border=\"1\" class=\"dataframe\">\n",
       "  <thead>\n",
       "    <tr style=\"text-align: right;\">\n",
       "      <th></th>\n",
       "      <th>Rainfall</th>\n",
       "      <th>Temperature</th>\n",
       "      <th>Year</th>\n",
       "      <th>Month</th>\n",
       "      <th>Day</th>\n",
       "    </tr>\n",
       "  </thead>\n",
       "  <tbody>\n",
       "    <tr>\n",
       "      <th>365</th>\n",
       "      <td>0.0</td>\n",
       "      <td>21.14</td>\n",
       "      <td>1952</td>\n",
       "      <td>1</td>\n",
       "      <td>1</td>\n",
       "    </tr>\n",
       "    <tr>\n",
       "      <th>366</th>\n",
       "      <td>0.0</td>\n",
       "      <td>21.08</td>\n",
       "      <td>1952</td>\n",
       "      <td>1</td>\n",
       "      <td>2</td>\n",
       "    </tr>\n",
       "    <tr>\n",
       "      <th>367</th>\n",
       "      <td>0.0</td>\n",
       "      <td>21.02</td>\n",
       "      <td>1952</td>\n",
       "      <td>1</td>\n",
       "      <td>3</td>\n",
       "    </tr>\n",
       "    <tr>\n",
       "      <th>368</th>\n",
       "      <td>0.0</td>\n",
       "      <td>21.14</td>\n",
       "      <td>1952</td>\n",
       "      <td>1</td>\n",
       "      <td>4</td>\n",
       "    </tr>\n",
       "    <tr>\n",
       "      <th>369</th>\n",
       "      <td>0.0</td>\n",
       "      <td>21.39</td>\n",
       "      <td>1952</td>\n",
       "      <td>1</td>\n",
       "      <td>5</td>\n",
       "    </tr>\n",
       "    <tr>\n",
       "      <th>...</th>\n",
       "      <td>...</td>\n",
       "      <td>...</td>\n",
       "      <td>...</td>\n",
       "      <td>...</td>\n",
       "      <td>...</td>\n",
       "    </tr>\n",
       "    <tr>\n",
       "      <th>23371</th>\n",
       "      <td>0.0</td>\n",
       "      <td>19.80</td>\n",
       "      <td>2014</td>\n",
       "      <td>12</td>\n",
       "      <td>27</td>\n",
       "    </tr>\n",
       "    <tr>\n",
       "      <th>23372</th>\n",
       "      <td>0.0</td>\n",
       "      <td>19.52</td>\n",
       "      <td>2014</td>\n",
       "      <td>12</td>\n",
       "      <td>28</td>\n",
       "    </tr>\n",
       "    <tr>\n",
       "      <th>23373</th>\n",
       "      <td>0.0</td>\n",
       "      <td>19.54</td>\n",
       "      <td>2014</td>\n",
       "      <td>12</td>\n",
       "      <td>29</td>\n",
       "    </tr>\n",
       "    <tr>\n",
       "      <th>23374</th>\n",
       "      <td>0.0</td>\n",
       "      <td>19.70</td>\n",
       "      <td>2014</td>\n",
       "      <td>12</td>\n",
       "      <td>30</td>\n",
       "    </tr>\n",
       "    <tr>\n",
       "      <th>23375</th>\n",
       "      <td>0.0</td>\n",
       "      <td>20.73</td>\n",
       "      <td>2014</td>\n",
       "      <td>12</td>\n",
       "      <td>31</td>\n",
       "    </tr>\n",
       "  </tbody>\n",
       "</table>\n",
       "<p>23011 rows × 5 columns</p>\n",
       "</div>"
      ],
      "text/plain": [
       "       Rainfall  Temperature  Year  Month  Day\n",
       "365         0.0        21.14  1952      1    1\n",
       "366         0.0        21.08  1952      1    2\n",
       "367         0.0        21.02  1952      1    3\n",
       "368         0.0        21.14  1952      1    4\n",
       "369         0.0        21.39  1952      1    5\n",
       "...         ...          ...   ...    ...  ...\n",
       "23371       0.0        19.80  2014     12   27\n",
       "23372       0.0        19.52  2014     12   28\n",
       "23373       0.0        19.54  2014     12   29\n",
       "23374       0.0        19.70  2014     12   30\n",
       "23375       0.0        20.73  2014     12   31\n",
       "\n",
       "[23011 rows x 5 columns]"
      ]
     },
     "execution_count": 12,
     "metadata": {},
     "output_type": "execute_result"
    }
   ],
   "source": [
    "df"
   ]
  },
  {
   "cell_type": "code",
   "execution_count": 13,
   "metadata": {},
   "outputs": [],
   "source": [
    "gb_df = df.groupby(['Year', 'Month'],as_index=False) \n",
    "\n",
    "monthly = gb_df['Rainfall','Temperature'].agg({\n",
    "    'Rainfall':[max,sum],\n",
    "    'Temperature':['mean',min,max]\n",
    "})\n",
    "\n",
    "monthly.columns = monthly.columns.droplevel(0)\n",
    "\n",
    "monthly.columns = ['year','month','max_rainfall','total_rainfall','avg_temp','min_temp','max_temp']\n",
    "\n",
    "monthly.to_csv('rainfall_per_year(monthwise).csv')"
   ]
  },
  {
   "cell_type": "code",
   "execution_count": 44,
   "metadata": {},
   "outputs": [],
   "source": [
    "# plt.bar(monthly['year'],monthly['total_rainfall'])\n",
    "# plt.title('rainfall(mm) trend per year')\n",
    "# plt.xlabel('years')\n",
    "# plt.ylabel('rainfall(mm)')\n",
    "# plt.show()"
   ]
  },
  {
   "cell_type": "code",
   "execution_count": 15,
   "metadata": {
    "scrolled": false
   },
   "outputs": [],
   "source": [
    "# Renaming columns\n",
    "# gb_df.agg(\n",
    "#     max_rainfall=('Rainfall',max),\n",
    "#     total_rainfall=('Rainfall',sum),\n",
    "#     min_temp = ('Temperature',min),\n",
    "#     max_temp = ('Temperature',max),\n",
    "#     avg_temp = ('Temperature','mean')\n",
    "# )"
   ]
  },
  {
   "cell_type": "code",
   "execution_count": 35,
   "metadata": {},
   "outputs": [],
   "source": [
    "gb_df = df.groupby(['Year'],as_index=False) \n",
    "# gb_df.mean()\n",
    "yearly = gb_df['Rainfall','Temperature'].agg({\n",
    "    'Rainfall':[max,sum],\n",
    "    'Temperature':['mean',min,max]\n",
    "})\n",
    "\n",
    "yearly.columns = yearly.columns.droplevel(0)\n",
    "\n",
    "yearly.columns = ['year','max_rainfall','total_rainfall','avg_temp','min_temp','max_temp']\n",
    "yearly\n",
    "monthly.to_csv('rainfall_per_year.csv')"
   ]
  },
  {
   "cell_type": "code",
   "execution_count": 36,
   "metadata": {},
   "outputs": [
    {
     "data": {
      "image/png": "[encoded data removed]",
      "text/plain": [
       "<Figure size 432x288 with 1 Axes>"
      ]
     },
     "metadata": {
      "needs_background": "light"
     },
     "output_type": "display_data"
    }
   ],
   "source": [
    "plt.bar(yearly['year'],yearly['total_rainfall'])\n",
    "plt.title('rainfall(mm) per year')\n",
    "plt.xlabel('Year')\n",
    "plt.ylabel('Average rainfall(mm)')\n",
    "plt.show()"
   ]
  },
  {
   "cell_type": "code",
   "execution_count": 43,
   "metadata": {},
   "outputs": [],
   "source": [
    "month_agg = df.groupby('Month',as_index=False).agg({\n",
    "    'Rainfall':[max,sum],\n",
    "    'Temperature':['mean',min,max]\n",
    "})\n",
    "month_agg.columns = ['month','max_rainfall','total_rainfall','avg_temp','min_temp','max_temp']\n",
    "month_agg.to_csv('monthly_trend.csv')"
   ]
  },
  {
   "cell_type": "code",
   "execution_count": 42,
   "metadata": {},
   "outputs": [
    {
     "data": {
      "image/png": "[encoded data removed]",
      "text/plain": [
       "<Figure size 432x288 with 1 Axes>"
      ]
     },
     "metadata": {
      "needs_background": "light"
     },
     "output_type": "display_data"
    }
   ],
   "source": [
    "plt.bar(month_agg['month'],month_agg['total_rainfall'])\n",
    "plt.title('rainfall(mm) per month')\n",
    "plt.xlabel('month')\n",
    "plt.ylabel('Average rainfall(mm)')\n",
    "plt.show()"
   ]
  },
  {
   "cell_type": "code",
   "execution_count": 39,
   "metadata": {},
   "outputs": [
    {
     "data": {
      "text/html": [
       "<div>\n",
       "<style scoped>\n",
       "    .dataframe tbody tr th:only-of-type {\n",
       "        vertical-align: middle;\n",
       "    }\n",
       "\n",
       "    .dataframe tbody tr th {\n",
       "        vertical-align: top;\n",
       "    }\n",
       "\n",
       "    .dataframe thead th {\n",
       "        text-align: right;\n",
       "    }\n",
       "</style>\n",
       "<table border=\"1\" class=\"dataframe\">\n",
       "  <thead>\n",
       "    <tr style=\"text-align: right;\">\n",
       "      <th></th>\n",
       "      <th>Year</th>\n",
       "      <th>Month</th>\n",
       "      <th>Rainfall</th>\n",
       "    </tr>\n",
       "  </thead>\n",
       "  <tbody>\n",
       "    <tr>\n",
       "      <th>5</th>\n",
       "      <td>1952</td>\n",
       "      <td>6</td>\n",
       "      <td>112.57</td>\n",
       "    </tr>\n",
       "    <tr>\n",
       "      <th>17</th>\n",
       "      <td>1953</td>\n",
       "      <td>6</td>\n",
       "      <td>90.68</td>\n",
       "    </tr>\n",
       "    <tr>\n",
       "      <th>29</th>\n",
       "      <td>1954</td>\n",
       "      <td>6</td>\n",
       "      <td>102.80</td>\n",
       "    </tr>\n",
       "    <tr>\n",
       "      <th>41</th>\n",
       "      <td>1955</td>\n",
       "      <td>6</td>\n",
       "      <td>43.84</td>\n",
       "    </tr>\n",
       "    <tr>\n",
       "      <th>53</th>\n",
       "      <td>1956</td>\n",
       "      <td>6</td>\n",
       "      <td>39.21</td>\n",
       "    </tr>\n",
       "    <tr>\n",
       "      <th>...</th>\n",
       "      <td>...</td>\n",
       "      <td>...</td>\n",
       "      <td>...</td>\n",
       "    </tr>\n",
       "    <tr>\n",
       "      <th>701</th>\n",
       "      <td>2010</td>\n",
       "      <td>6</td>\n",
       "      <td>175.65</td>\n",
       "    </tr>\n",
       "    <tr>\n",
       "      <th>713</th>\n",
       "      <td>2011</td>\n",
       "      <td>6</td>\n",
       "      <td>72.76</td>\n",
       "    </tr>\n",
       "    <tr>\n",
       "      <th>725</th>\n",
       "      <td>2012</td>\n",
       "      <td>6</td>\n",
       "      <td>30.95</td>\n",
       "    </tr>\n",
       "    <tr>\n",
       "      <th>737</th>\n",
       "      <td>2013</td>\n",
       "      <td>6</td>\n",
       "      <td>172.01</td>\n",
       "    </tr>\n",
       "    <tr>\n",
       "      <th>749</th>\n",
       "      <td>2014</td>\n",
       "      <td>6</td>\n",
       "      <td>12.74</td>\n",
       "    </tr>\n",
       "  </tbody>\n",
       "</table>\n",
       "<p>63 rows × 3 columns</p>\n",
       "</div>"
      ],
      "text/plain": [
       "     Year  Month  Rainfall\n",
       "5    1952      6    112.57\n",
       "17   1953      6     90.68\n",
       "29   1954      6    102.80\n",
       "41   1955      6     43.84\n",
       "53   1956      6     39.21\n",
       "..    ...    ...       ...\n",
       "701  2010      6    175.65\n",
       "713  2011      6     72.76\n",
       "725  2012      6     30.95\n",
       "737  2013      6    172.01\n",
       "749  2014      6     12.74\n",
       "\n",
       "[63 rows x 3 columns]"
      ]
     },
     "execution_count": 39,
     "metadata": {},
     "output_type": "execute_result"
    }
   ],
   "source": [
    "gb_df = df.groupby(['Year','Month'],as_index=False)\n",
    "year_month=gb_df['Rainfall'].sum()\n",
    "july_trend = year_month[year_month['Month'] == 6]\n",
    "july_trend"
   ]
  },
  {
   "cell_type": "code",
   "execution_count": 20,
   "metadata": {},
   "outputs": [
    {
     "data": {
      "text/plain": [
       "[<matplotlib.lines.Line2D at 0x7faf59cef828>]"
      ]
     },
     "execution_count": 20,
     "metadata": {},
     "output_type": "execute_result"
    },
    {
     "data": {
      "image/png": "[encoded data removed]",
      "text/plain": [
       "<Figure size 432x288 with 1 Axes>"
      ]
     },
     "metadata": {
      "needs_background": "light"
     },
     "output_type": "display_data"
    }
   ],
   "source": [
    "plt.plot(july_trend['Year'],july_trend['Rainfall'])"
   ]
  },
  {
   "cell_type": "code",
   "execution_count": null,
   "metadata": {},
   "outputs": [],
   "source": []
  }
 ],
 "metadata": {
  "kernelspec": {
   "display_name": "Python 3",
   "language": "python",
   "name": "python3"
  },
  "language_info": {
   "codemirror_mode": {
    "name": "ipython",
    "version": 3
   },
   "file_extension": ".py",
   "mimetype": "text/x-python",
   "name": "python",
   "nbconvert_exporter": "python",
   "pygments_lexer": "ipython3",
   "version": "3.6.8"
  }
 },
 "nbformat": 4,
 "nbformat_minor": 2
}

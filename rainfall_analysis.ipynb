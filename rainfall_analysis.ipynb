{
 "cells": [
  {
   "cell_type": "code",
   "execution_count": 1,
   "metadata": {},
   "outputs": [
    {
     "name": "stdout",
     "output_type": "stream",
     "text": [
      "Collecting statsmodels\n",
      "  Using cached https://files.pythonhosted.org/packages/60/d6/e9859e68e7d6c916fdff7d8e0958a7f5813485c52fc20d061273eaaddb0c/statsmodels-0.10.1-cp36-cp36m-manylinux1_x86_64.whl\n",
      "Collecting patsy>=0.4.0 (from statsmodels)\n",
      "  Using cached https://files.pythonhosted.org/packages/ea/0c/5f61f1a3d4385d6bf83b83ea495068857ff8dfb89e74824c6e9eb63286d8/patsy-0.5.1-py2.py3-none-any.whl\n",
      "Collecting pandas>=0.19 (from statsmodels)\n",
      "  Using cached https://files.pythonhosted.org/packages/86/12/08b092f6fc9e4c2552e37add0861d0e0e0d743f78f1318973caad970b3fc/pandas-0.25.2-cp36-cp36m-manylinux1_x86_64.whl\n",
      "Collecting scipy>=0.18 (from statsmodels)\n",
      "  Using cached https://files.pythonhosted.org/packages/29/50/a552a5aff252ae915f522e44642bb49a7b7b31677f9580cfd11bcc869976/scipy-1.3.1-cp36-cp36m-manylinux1_x86_64.whl\n",
      "Collecting numpy>=1.11 (from statsmodels)\n",
      "  Using cached https://files.pythonhosted.org/packages/0e/46/ae6773894f7eacf53308086287897ec568eac9768918d913d5b9d366c5db/numpy-1.17.3-cp36-cp36m-manylinux1_x86_64.whl\n",
      "Collecting six (from patsy>=0.4.0->statsmodels)\n",
      "  Using cached https://files.pythonhosted.org/packages/73/fb/00a976f728d0d1fecfe898238ce23f502a721c0ac0ecfedb80e0d88c64e9/six-1.12.0-py2.py3-none-any.whl\n",
      "Collecting pytz>=2017.2 (from pandas>=0.19->statsmodels)\n",
      "  Using cached https://files.pythonhosted.org/packages/e7/f9/f0b53f88060247251bf481fa6ea62cd0d25bf1b11a87888e53ce5b7c8ad2/pytz-2019.3-py2.py3-none-any.whl\n",
      "Collecting python-dateutil>=2.6.1 (from pandas>=0.19->statsmodels)\n",
      "  Using cached https://files.pythonhosted.org/packages/41/17/c62faccbfbd163c7f57f3844689e3a78bae1f403648a6afb1d0866d87fbb/python_dateutil-2.8.0-py2.py3-none-any.whl\n",
      "Installing collected packages: six, numpy, patsy, pytz, python-dateutil, pandas, scipy, statsmodels\n",
      "Successfully installed numpy-1.17.3 pandas-0.25.2 patsy-0.5.1 python-dateutil-2.8.0 pytz-2019.3 scipy-1.3.1 six-1.12.0 statsmodels-0.10.1\n"
     ]
    }
   ],
   "source": [
    "!pip3 install statsmodels"
   ]
  },
  {
   "cell_type": "code",
   "execution_count": 2,
   "metadata": {},
   "outputs": [],
   "source": [
    "import matplotlib.pyplot as plt\n",
    "import pandas as pd\n",
    "import numpy as np\n",
    "import scipy.stats as stats\n",
    "import seaborn as sns\n",
    "from statsmodels.graphics.gofplots import qqplot\n"
   ]
  },
  {
   "cell_type": "code",
   "execution_count": 3,
   "metadata": {},
   "outputs": [],
   "source": [
    "sns.set(color_codes=True)"
   ]
  },
  {
   "cell_type": "markdown",
   "metadata": {},
   "source": [
    "Source:India Meterological Department/Ministry of Earth Science/Govt. of india"
   ]
  },
  {
   "cell_type": "code",
   "execution_count": 4,
   "metadata": {},
   "outputs": [],
   "source": [
    "data = pd.read_excel('data/daily.xlsx')"
   ]
  },
  {
   "cell_type": "code",
   "execution_count": 5,
   "metadata": {},
   "outputs": [
    {
     "name": "stdout",
     "output_type": "stream",
     "text": [
      "Collecting xlrd\n",
      "  Using cached https://files.pythonhosted.org/packages/b0/16/63576a1a001752e34bf8ea62e367997530dc553b689356b9879339cf45a4/xlrd-1.2.0-py2.py3-none-any.whl\n",
      "Installing collected packages: xlrd\n",
      "Successfully installed xlrd-1.2.0\n"
     ]
    }
   ],
   "source": [
    "!pip3 install xlrd"
   ]
  },
  {
   "cell_type": "code",
   "execution_count": 6,
   "metadata": {},
   "outputs": [
    {
     "data": {
      "text/html": [
       "<div>\n",
       "<style scoped>\n",
       "    .dataframe tbody tr th:only-of-type {\n",
       "        vertical-align: middle;\n",
       "    }\n",
       "\n",
       "    .dataframe tbody tr th {\n",
       "        vertical-align: top;\n",
       "    }\n",
       "\n",
       "    .dataframe thead th {\n",
       "        text-align: right;\n",
       "    }\n",
       "</style>\n",
       "<table border=\"1\" class=\"dataframe\">\n",
       "  <thead>\n",
       "    <tr style=\"text-align: right;\">\n",
       "      <th></th>\n",
       "      <th>rainfall (mm/day)</th>\n",
       "      <th>PET (mm/day)</th>\n",
       "      <th>Q (mm/day)</th>\n",
       "      <th>avg Temperature</th>\n",
       "      <th>Date</th>\n",
       "      <th>Unnamed: 5</th>\n",
       "      <th>Unnamed: 6</th>\n",
       "    </tr>\n",
       "  </thead>\n",
       "  <tbody>\n",
       "    <tr>\n",
       "      <th>0</th>\n",
       "      <td>NaN</td>\n",
       "      <td>NaN</td>\n",
       "      <td>NaN</td>\n",
       "      <td>NaN</td>\n",
       "      <td>1951</td>\n",
       "      <td>1</td>\n",
       "      <td>1</td>\n",
       "    </tr>\n",
       "    <tr>\n",
       "      <th>1</th>\n",
       "      <td>NaN</td>\n",
       "      <td>NaN</td>\n",
       "      <td>NaN</td>\n",
       "      <td>NaN</td>\n",
       "      <td>1951</td>\n",
       "      <td>1</td>\n",
       "      <td>2</td>\n",
       "    </tr>\n",
       "    <tr>\n",
       "      <th>2</th>\n",
       "      <td>NaN</td>\n",
       "      <td>NaN</td>\n",
       "      <td>NaN</td>\n",
       "      <td>NaN</td>\n",
       "      <td>1951</td>\n",
       "      <td>1</td>\n",
       "      <td>3</td>\n",
       "    </tr>\n",
       "    <tr>\n",
       "      <th>3</th>\n",
       "      <td>NaN</td>\n",
       "      <td>NaN</td>\n",
       "      <td>NaN</td>\n",
       "      <td>NaN</td>\n",
       "      <td>1951</td>\n",
       "      <td>1</td>\n",
       "      <td>4</td>\n",
       "    </tr>\n",
       "    <tr>\n",
       "      <th>4</th>\n",
       "      <td>NaN</td>\n",
       "      <td>NaN</td>\n",
       "      <td>NaN</td>\n",
       "      <td>NaN</td>\n",
       "      <td>1951</td>\n",
       "      <td>1</td>\n",
       "      <td>5</td>\n",
       "    </tr>\n",
       "    <tr>\n",
       "      <th>...</th>\n",
       "      <td>...</td>\n",
       "      <td>...</td>\n",
       "      <td>...</td>\n",
       "      <td>...</td>\n",
       "      <td>...</td>\n",
       "      <td>...</td>\n",
       "      <td>...</td>\n",
       "    </tr>\n",
       "    <tr>\n",
       "      <th>23371</th>\n",
       "      <td>0.0</td>\n",
       "      <td>3.646389</td>\n",
       "      <td>0.033444</td>\n",
       "      <td>19.805</td>\n",
       "      <td>2014</td>\n",
       "      <td>12</td>\n",
       "      <td>27</td>\n",
       "    </tr>\n",
       "    <tr>\n",
       "      <th>23372</th>\n",
       "      <td>0.0</td>\n",
       "      <td>3.794536</td>\n",
       "      <td>0.032650</td>\n",
       "      <td>19.525</td>\n",
       "      <td>2014</td>\n",
       "      <td>12</td>\n",
       "      <td>28</td>\n",
       "    </tr>\n",
       "    <tr>\n",
       "      <th>23373</th>\n",
       "      <td>0.0</td>\n",
       "      <td>3.897361</td>\n",
       "      <td>0.031907</td>\n",
       "      <td>19.535</td>\n",
       "      <td>2014</td>\n",
       "      <td>12</td>\n",
       "      <td>29</td>\n",
       "    </tr>\n",
       "    <tr>\n",
       "      <th>23374</th>\n",
       "      <td>0.0</td>\n",
       "      <td>3.752435</td>\n",
       "      <td>0.031208</td>\n",
       "      <td>19.695</td>\n",
       "      <td>2014</td>\n",
       "      <td>12</td>\n",
       "      <td>30</td>\n",
       "    </tr>\n",
       "    <tr>\n",
       "      <th>23375</th>\n",
       "      <td>0.0</td>\n",
       "      <td>3.521435</td>\n",
       "      <td>0.000000</td>\n",
       "      <td>20.730</td>\n",
       "      <td>2014</td>\n",
       "      <td>12</td>\n",
       "      <td>31</td>\n",
       "    </tr>\n",
       "  </tbody>\n",
       "</table>\n",
       "<p>23376 rows × 7 columns</p>\n",
       "</div>"
      ],
      "text/plain": [
       "       rainfall (mm/day)  PET (mm/day)  Q (mm/day)  avg Temperature  Date   \\\n",
       "0                    NaN           NaN         NaN              NaN   1951   \n",
       "1                    NaN           NaN         NaN              NaN   1951   \n",
       "2                    NaN           NaN         NaN              NaN   1951   \n",
       "3                    NaN           NaN         NaN              NaN   1951   \n",
       "4                    NaN           NaN         NaN              NaN   1951   \n",
       "...                  ...           ...         ...              ...    ...   \n",
       "23371                0.0      3.646389    0.033444           19.805   2014   \n",
       "23372                0.0      3.794536    0.032650           19.525   2014   \n",
       "23373                0.0      3.897361    0.031907           19.535   2014   \n",
       "23374                0.0      3.752435    0.031208           19.695   2014   \n",
       "23375                0.0      3.521435    0.000000           20.730   2014   \n",
       "\n",
       "       Unnamed: 5  Unnamed: 6  \n",
       "0               1           1  \n",
       "1               1           2  \n",
       "2               1           3  \n",
       "3               1           4  \n",
       "4               1           5  \n",
       "...           ...         ...  \n",
       "23371          12          27  \n",
       "23372          12          28  \n",
       "23373          12          29  \n",
       "23374          12          30  \n",
       "23375          12          31  \n",
       "\n",
       "[23376 rows x 7 columns]"
      ]
     },
     "execution_count": 6,
     "metadata": {},
     "output_type": "execute_result"
    }
   ],
   "source": [
    "data"
   ]
  },
  {
   "cell_type": "code",
   "execution_count": 7,
   "metadata": {},
   "outputs": [
    {
     "data": {
      "text/plain": [
       "Index(['rainfall (mm/day)', 'PET (mm/day)', 'Q (mm/day)', 'avg Temperature',\n",
       "       'Date ', 'Unnamed: 5', 'Unnamed: 6'],\n",
       "      dtype='object')"
      ]
     },
     "execution_count": 7,
     "metadata": {},
     "output_type": "execute_result"
    }
   ],
   "source": [
    "data.columns"
   ]
  },
  {
   "cell_type": "markdown",
   "metadata": {},
   "source": [
    "About variables:\n",
    "Rainfall:\n",
    "PET\n",
    "Q\n",
    "avg Temp\n",
    "Date\n"
   ]
  },
  {
   "cell_type": "code",
   "execution_count": 8,
   "metadata": {},
   "outputs": [],
   "source": [
    "data.columns = ['Rainfall', 'PET (mm/day)', 'Q (mm/day)', 'Temperature',\n",
    "       'Year', 'Month', 'Day']"
   ]
  },
  {
   "cell_type": "code",
   "execution_count": 9,
   "metadata": {},
   "outputs": [
    {
     "data": {
      "text/html": [
       "<div>\n",
       "<style scoped>\n",
       "    .dataframe tbody tr th:only-of-type {\n",
       "        vertical-align: middle;\n",
       "    }\n",
       "\n",
       "    .dataframe tbody tr th {\n",
       "        vertical-align: top;\n",
       "    }\n",
       "\n",
       "    .dataframe thead th {\n",
       "        text-align: right;\n",
       "    }\n",
       "</style>\n",
       "<table border=\"1\" class=\"dataframe\">\n",
       "  <thead>\n",
       "    <tr style=\"text-align: right;\">\n",
       "      <th></th>\n",
       "      <th>Rainfall</th>\n",
       "      <th>PET (mm/day)</th>\n",
       "      <th>Q (mm/day)</th>\n",
       "      <th>Temperature</th>\n",
       "      <th>Year</th>\n",
       "      <th>Month</th>\n",
       "      <th>Day</th>\n",
       "    </tr>\n",
       "  </thead>\n",
       "  <tbody>\n",
       "    <tr>\n",
       "      <th>0</th>\n",
       "      <td>NaN</td>\n",
       "      <td>NaN</td>\n",
       "      <td>NaN</td>\n",
       "      <td>NaN</td>\n",
       "      <td>1951</td>\n",
       "      <td>1</td>\n",
       "      <td>1</td>\n",
       "    </tr>\n",
       "    <tr>\n",
       "      <th>1</th>\n",
       "      <td>NaN</td>\n",
       "      <td>NaN</td>\n",
       "      <td>NaN</td>\n",
       "      <td>NaN</td>\n",
       "      <td>1951</td>\n",
       "      <td>1</td>\n",
       "      <td>2</td>\n",
       "    </tr>\n",
       "  </tbody>\n",
       "</table>\n",
       "</div>"
      ],
      "text/plain": [
       "   Rainfall  PET (mm/day)  Q (mm/day)  Temperature  Year  Month  Day\n",
       "0       NaN           NaN         NaN          NaN  1951      1    1\n",
       "1       NaN           NaN         NaN          NaN  1951      1    2"
      ]
     },
     "execution_count": 9,
     "metadata": {},
     "output_type": "execute_result"
    }
   ],
   "source": [
    "data.head(2)"
   ]
  },
  {
   "cell_type": "code",
   "execution_count": 10,
   "metadata": {},
   "outputs": [],
   "source": [
    "req_data = data[['Rainfall','Temperature',\n",
    "       'Year', 'Month', 'Day']]"
   ]
  },
  {
   "cell_type": "code",
   "execution_count": 11,
   "metadata": {},
   "outputs": [],
   "source": [
    "df = req_data.loc[req_data['Year'] != 1951]"
   ]
  },
  {
   "cell_type": "code",
   "execution_count": 12,
   "metadata": {},
   "outputs": [
    {
     "data": {
      "text/html": [
       "<div>\n",
       "<style scoped>\n",
       "    .dataframe tbody tr th:only-of-type {\n",
       "        vertical-align: middle;\n",
       "    }\n",
       "\n",
       "    .dataframe tbody tr th {\n",
       "        vertical-align: top;\n",
       "    }\n",
       "\n",
       "    .dataframe thead th {\n",
       "        text-align: right;\n",
       "    }\n",
       "</style>\n",
       "<table border=\"1\" class=\"dataframe\">\n",
       "  <thead>\n",
       "    <tr style=\"text-align: right;\">\n",
       "      <th></th>\n",
       "      <th>Rainfall</th>\n",
       "      <th>Temperature</th>\n",
       "      <th>Year</th>\n",
       "      <th>Month</th>\n",
       "      <th>Day</th>\n",
       "    </tr>\n",
       "  </thead>\n",
       "  <tbody>\n",
       "    <tr>\n",
       "      <th>365</th>\n",
       "      <td>0.0</td>\n",
       "      <td>21.140</td>\n",
       "      <td>1952</td>\n",
       "      <td>1</td>\n",
       "      <td>1</td>\n",
       "    </tr>\n",
       "    <tr>\n",
       "      <th>366</th>\n",
       "      <td>0.0</td>\n",
       "      <td>21.085</td>\n",
       "      <td>1952</td>\n",
       "      <td>1</td>\n",
       "      <td>2</td>\n",
       "    </tr>\n",
       "    <tr>\n",
       "      <th>367</th>\n",
       "      <td>0.0</td>\n",
       "      <td>21.020</td>\n",
       "      <td>1952</td>\n",
       "      <td>1</td>\n",
       "      <td>3</td>\n",
       "    </tr>\n",
       "    <tr>\n",
       "      <th>368</th>\n",
       "      <td>0.0</td>\n",
       "      <td>21.145</td>\n",
       "      <td>1952</td>\n",
       "      <td>1</td>\n",
       "      <td>4</td>\n",
       "    </tr>\n",
       "    <tr>\n",
       "      <th>369</th>\n",
       "      <td>0.0</td>\n",
       "      <td>21.390</td>\n",
       "      <td>1952</td>\n",
       "      <td>1</td>\n",
       "      <td>5</td>\n",
       "    </tr>\n",
       "    <tr>\n",
       "      <th>...</th>\n",
       "      <td>...</td>\n",
       "      <td>...</td>\n",
       "      <td>...</td>\n",
       "      <td>...</td>\n",
       "      <td>...</td>\n",
       "    </tr>\n",
       "    <tr>\n",
       "      <th>23371</th>\n",
       "      <td>0.0</td>\n",
       "      <td>19.805</td>\n",
       "      <td>2014</td>\n",
       "      <td>12</td>\n",
       "      <td>27</td>\n",
       "    </tr>\n",
       "    <tr>\n",
       "      <th>23372</th>\n",
       "      <td>0.0</td>\n",
       "      <td>19.525</td>\n",
       "      <td>2014</td>\n",
       "      <td>12</td>\n",
       "      <td>28</td>\n",
       "    </tr>\n",
       "    <tr>\n",
       "      <th>23373</th>\n",
       "      <td>0.0</td>\n",
       "      <td>19.535</td>\n",
       "      <td>2014</td>\n",
       "      <td>12</td>\n",
       "      <td>29</td>\n",
       "    </tr>\n",
       "    <tr>\n",
       "      <th>23374</th>\n",
       "      <td>0.0</td>\n",
       "      <td>19.695</td>\n",
       "      <td>2014</td>\n",
       "      <td>12</td>\n",
       "      <td>30</td>\n",
       "    </tr>\n",
       "    <tr>\n",
       "      <th>23375</th>\n",
       "      <td>0.0</td>\n",
       "      <td>20.730</td>\n",
       "      <td>2014</td>\n",
       "      <td>12</td>\n",
       "      <td>31</td>\n",
       "    </tr>\n",
       "  </tbody>\n",
       "</table>\n",
       "<p>23011 rows × 5 columns</p>\n",
       "</div>"
      ],
      "text/plain": [
       "       Rainfall  Temperature  Year  Month  Day\n",
       "365         0.0       21.140  1952      1    1\n",
       "366         0.0       21.085  1952      1    2\n",
       "367         0.0       21.020  1952      1    3\n",
       "368         0.0       21.145  1952      1    4\n",
       "369         0.0       21.390  1952      1    5\n",
       "...         ...          ...   ...    ...  ...\n",
       "23371       0.0       19.805  2014     12   27\n",
       "23372       0.0       19.525  2014     12   28\n",
       "23373       0.0       19.535  2014     12   29\n",
       "23374       0.0       19.695  2014     12   30\n",
       "23375       0.0       20.730  2014     12   31\n",
       "\n",
       "[23011 rows x 5 columns]"
      ]
     },
     "execution_count": 12,
     "metadata": {},
     "output_type": "execute_result"
    }
   ],
   "source": [
    "df"
   ]
  },
  {
   "cell_type": "code",
   "execution_count": 13,
   "metadata": {},
   "outputs": [],
   "source": [
    "df = df.round({\"Rainfall\":2, \"Temperature\":2}) "
   ]
  },
  {
   "cell_type": "code",
   "execution_count": 14,
   "metadata": {},
   "outputs": [
    {
     "data": {
      "text/html": [
       "<div>\n",
       "<style scoped>\n",
       "    .dataframe tbody tr th:only-of-type {\n",
       "        vertical-align: middle;\n",
       "    }\n",
       "\n",
       "    .dataframe tbody tr th {\n",
       "        vertical-align: top;\n",
       "    }\n",
       "\n",
       "    .dataframe thead th {\n",
       "        text-align: right;\n",
       "    }\n",
       "</style>\n",
       "<table border=\"1\" class=\"dataframe\">\n",
       "  <thead>\n",
       "    <tr style=\"text-align: right;\">\n",
       "      <th></th>\n",
       "      <th>Rainfall</th>\n",
       "      <th>Temperature</th>\n",
       "      <th>Year</th>\n",
       "      <th>Month</th>\n",
       "      <th>Day</th>\n",
       "    </tr>\n",
       "  </thead>\n",
       "  <tbody>\n",
       "    <tr>\n",
       "      <th>365</th>\n",
       "      <td>0.0</td>\n",
       "      <td>21.14</td>\n",
       "      <td>1952</td>\n",
       "      <td>1</td>\n",
       "      <td>1</td>\n",
       "    </tr>\n",
       "    <tr>\n",
       "      <th>366</th>\n",
       "      <td>0.0</td>\n",
       "      <td>21.08</td>\n",
       "      <td>1952</td>\n",
       "      <td>1</td>\n",
       "      <td>2</td>\n",
       "    </tr>\n",
       "    <tr>\n",
       "      <th>367</th>\n",
       "      <td>0.0</td>\n",
       "      <td>21.02</td>\n",
       "      <td>1952</td>\n",
       "      <td>1</td>\n",
       "      <td>3</td>\n",
       "    </tr>\n",
       "    <tr>\n",
       "      <th>368</th>\n",
       "      <td>0.0</td>\n",
       "      <td>21.14</td>\n",
       "      <td>1952</td>\n",
       "      <td>1</td>\n",
       "      <td>4</td>\n",
       "    </tr>\n",
       "    <tr>\n",
       "      <th>369</th>\n",
       "      <td>0.0</td>\n",
       "      <td>21.39</td>\n",
       "      <td>1952</td>\n",
       "      <td>1</td>\n",
       "      <td>5</td>\n",
       "    </tr>\n",
       "    <tr>\n",
       "      <th>...</th>\n",
       "      <td>...</td>\n",
       "      <td>...</td>\n",
       "      <td>...</td>\n",
       "      <td>...</td>\n",
       "      <td>...</td>\n",
       "    </tr>\n",
       "    <tr>\n",
       "      <th>23371</th>\n",
       "      <td>0.0</td>\n",
       "      <td>19.80</td>\n",
       "      <td>2014</td>\n",
       "      <td>12</td>\n",
       "      <td>27</td>\n",
       "    </tr>\n",
       "    <tr>\n",
       "      <th>23372</th>\n",
       "      <td>0.0</td>\n",
       "      <td>19.52</td>\n",
       "      <td>2014</td>\n",
       "      <td>12</td>\n",
       "      <td>28</td>\n",
       "    </tr>\n",
       "    <tr>\n",
       "      <th>23373</th>\n",
       "      <td>0.0</td>\n",
       "      <td>19.54</td>\n",
       "      <td>2014</td>\n",
       "      <td>12</td>\n",
       "      <td>29</td>\n",
       "    </tr>\n",
       "    <tr>\n",
       "      <th>23374</th>\n",
       "      <td>0.0</td>\n",
       "      <td>19.70</td>\n",
       "      <td>2014</td>\n",
       "      <td>12</td>\n",
       "      <td>30</td>\n",
       "    </tr>\n",
       "    <tr>\n",
       "      <th>23375</th>\n",
       "      <td>0.0</td>\n",
       "      <td>20.73</td>\n",
       "      <td>2014</td>\n",
       "      <td>12</td>\n",
       "      <td>31</td>\n",
       "    </tr>\n",
       "  </tbody>\n",
       "</table>\n",
       "<p>23011 rows × 5 columns</p>\n",
       "</div>"
      ],
      "text/plain": [
       "       Rainfall  Temperature  Year  Month  Day\n",
       "365         0.0        21.14  1952      1    1\n",
       "366         0.0        21.08  1952      1    2\n",
       "367         0.0        21.02  1952      1    3\n",
       "368         0.0        21.14  1952      1    4\n",
       "369         0.0        21.39  1952      1    5\n",
       "...         ...          ...   ...    ...  ...\n",
       "23371       0.0        19.80  2014     12   27\n",
       "23372       0.0        19.52  2014     12   28\n",
       "23373       0.0        19.54  2014     12   29\n",
       "23374       0.0        19.70  2014     12   30\n",
       "23375       0.0        20.73  2014     12   31\n",
       "\n",
       "[23011 rows x 5 columns]"
      ]
     },
     "execution_count": 14,
     "metadata": {},
     "output_type": "execute_result"
    }
   ],
   "source": [
    "df"
   ]
  },
  {
   "cell_type": "code",
   "execution_count": 15,
   "metadata": {},
   "outputs": [],
   "source": [
    "gb_df = df.groupby(['Year', 'Month'],as_index=False) \n",
    "\n",
    "monthly = gb_df['Rainfall','Temperature'].agg({\n",
    "    'Rainfall':[max,sum],\n",
    "    'Temperature':['mean',min,max]\n",
    "})\n",
    "\n",
    "monthly.columns = monthly.columns.droplevel(0)\n",
    "\n",
    "monthly.columns = ['year','month','max_rainfall','total_rainfall','avg_temp','min_temp','max_temp']\n",
    "\n",
    "monthly.to_csv('rainfall_per_year(monthwise).csv')"
   ]
  },
  {
   "cell_type": "code",
   "execution_count": 16,
   "metadata": {},
   "outputs": [],
   "source": [
    "# plt.bar(monthly['year'],monthly['total_rainfall'])\n",
    "# plt.title('rainfall(mm) trend per year')\n",
    "# plt.xlabel('years')\n",
    "# plt.ylabel('rainfall(mm)')\n",
    "# plt.show()"
   ]
  },
  {
   "cell_type": "code",
   "execution_count": 17,
   "metadata": {
    "scrolled": false
   },
   "outputs": [],
   "source": [
    "# Renaming columns\n",
    "# gb_df.agg(\n",
    "#     max_rainfall=('Rainfall',max),\n",
    "#     total_rainfall=('Rainfall',sum),\n",
    "#     min_temp = ('Temperature',min),\n",
    "#     max_temp = ('Temperature',max),\n",
    "#     avg_temp = ('Temperature','mean')\n",
    "# )"
   ]
  },
  {
   "cell_type": "code",
   "execution_count": 18,
   "metadata": {},
   "outputs": [],
   "source": [
    "gb_df = df.groupby(['Year'],as_index=False) \n",
    "# gb_df.mean()\n",
    "yearly = gb_df['Rainfall','Temperature'].agg({\n",
    "    'Rainfall':[max,sum],\n",
    "    'Temperature':['mean',min,max]\n",
    "})\n",
    "\n",
    "yearly.columns = yearly.columns.droplevel(0)\n",
    "\n",
    "yearly.columns = ['year','max_rainfall','total_rainfall','avg_temp','min_temp','max_temp']\n",
    "yearly\n",
    "monthly.to_csv('rainfall_per_year.csv')"
   ]
  },
  {
   "cell_type": "code",
   "execution_count": 19,
   "metadata": {},
   "outputs": [],
   "source": [
    "month_agg = df.groupby('Month',as_index=False).agg({\n",
    "    'Rainfall':[max,sum],\n",
    "    'Temperature':['mean',min,max]\n",
    "})\n",
    "month_agg.columns = ['month','max_rainfall','total_rainfall','avg_temp','min_temp','max_temp']\n",
    "month_agg.to_csv('monthly_trend.csv')"
   ]
  },
  {
   "cell_type": "code",
   "execution_count": 20,
   "metadata": {},
   "outputs": [
    {
     "data": {
      "image/png": "[encoded data removed]",
      "text/plain": [
       "<Figure size 432x288 with 1 Axes>"
      ]
     },
     "metadata": {},
     "output_type": "display_data"
    }
   ],
   "source": [
    "plt.bar(yearly['year'],yearly['total_rainfall'])\n",
    "plt.title('Rainfall(mm) per year')\n",
    "plt.xlabel('Year')\n",
    "plt.ylabel('Total rainfall(mm)')\n",
    "plt.show()"
   ]
  },
  {
   "cell_type": "markdown",
   "metadata": {},
   "source": [
    "# Outliers removed(2005 and 2006)"
   ]
  },
  {
   "cell_type": "code",
   "execution_count": 21,
   "metadata": {},
   "outputs": [],
   "source": [
    "# yearly_new = yearly.drop(yearly[(yearly['year'] == 2006) & (yearly['year'] == 2005)].index)\n",
    "yearly_new = yearly.drop(yearly[(yearly['year'] == 2005)].index)\n",
    "yearly_new = yearly_new.drop(yearly_new[(yearly_new['year'] == 2006)].index)\n",
    "yearly_new.to_csv('Yearly_outliers(2005,2006)_remove.csv')"
   ]
  },
  {
   "cell_type": "code",
   "execution_count": 22,
   "metadata": {},
   "outputs": [
    {
     "data": {
      "image/png": "[encoded data removed]",
      "text/plain": [
       "<Figure size 432x288 with 1 Axes>"
      ]
     },
     "metadata": {},
     "output_type": "display_data"
    }
   ],
   "source": [
    "plt.bar(yearly_new['year'],yearly_new['total_rainfall'])\n",
    "plt.title('Rainfall(mm) per year')\n",
    "plt.xlabel('Year')\n",
    "plt.ylabel('Total rainfall(mm)')\n",
    "plt.show()"
   ]
  },
  {
   "cell_type": "code",
   "execution_count": 23,
   "metadata": {},
   "outputs": [],
   "source": [
    "total_rainfall = yearly_new['total_rainfall']"
   ]
  },
  {
   "cell_type": "code",
   "execution_count": 24,
   "metadata": {},
   "outputs": [],
   "source": [
    "mean = total_rainfall.mean()"
   ]
  },
  {
   "cell_type": "code",
   "execution_count": 25,
   "metadata": {},
   "outputs": [
    {
     "data": {
      "text/plain": [
       "596.5800000000002"
      ]
     },
     "execution_count": 25,
     "metadata": {},
     "output_type": "execute_result"
    }
   ],
   "source": [
    "total_rainfall.median()"
   ]
  },
  {
   "cell_type": "code",
   "execution_count": 26,
   "metadata": {},
   "outputs": [
    {
     "data": {
      "text/plain": [
       "251.16999999999996"
      ]
     },
     "execution_count": 26,
     "metadata": {},
     "output_type": "execute_result"
    }
   ],
   "source": [
    "total_rainfall.min()"
   ]
  },
  {
   "cell_type": "code",
   "execution_count": 27,
   "metadata": {},
   "outputs": [
    {
     "data": {
      "text/plain": [
       "916.1100000000001"
      ]
     },
     "execution_count": 27,
     "metadata": {},
     "output_type": "execute_result"
    }
   ],
   "source": [
    "total_rainfall.max()"
   ]
  },
  {
   "cell_type": "code",
   "execution_count": 28,
   "metadata": {},
   "outputs": [],
   "source": [
    "std =total_rainfall.std()"
   ]
  },
  {
   "cell_type": "markdown",
   "metadata": {},
   "source": [
    "* If skewness is less than -1 or greater than 1, the distribution is highly skewed.\n",
    "* If skewness is between -1 and -0.5 or between 0.5 and 1, the distribution is moderately skewed.\n",
    "* If skewness is between -0.5 and 0.5, the distribution is approximately symmetric."
   ]
  },
  {
   "cell_type": "code",
   "execution_count": 29,
   "metadata": {},
   "outputs": [
    {
     "data": {
      "text/plain": [
       "0.2543868857501806"
      ]
     },
     "execution_count": 29,
     "metadata": {},
     "output_type": "execute_result"
    }
   ],
   "source": [
    "total_rainfall.skew()"
   ]
  },
  {
   "cell_type": "code",
   "execution_count": 30,
   "metadata": {},
   "outputs": [
    {
     "data": {
      "text/plain": [
       "-0.12635377177098706"
      ]
     },
     "execution_count": 30,
     "metadata": {},
     "output_type": "execute_result"
    }
   ],
   "source": [
    "total_rainfall.kurtosis()"
   ]
  },
  {
   "cell_type": "code",
   "execution_count": 31,
   "metadata": {},
   "outputs": [
    {
     "data": {
      "text/plain": [
       "(array([ 2.,  1.,  5., 12.,  9.,  9., 12.,  5.,  1.,  5.]),\n",
       " array([251.17 , 317.664, 384.158, 450.652, 517.146, 583.64 , 650.134,\n",
       "        716.628, 783.122, 849.616, 916.11 ]),\n",
       " <a list of 10 Patch objects>)"
      ]
     },
     "execution_count": 31,
     "metadata": {},
     "output_type": "execute_result"
    },
    {
     "data": {
      "image/png": "[encoded data removed]",
      "text/plain": [
       "<Figure size 432x288 with 1 Axes>"
      ]
     },
     "metadata": {},
     "output_type": "display_data"
    }
   ],
   "source": [
    "plt.hist(total_rainfall)"
   ]
  },
  {
   "cell_type": "code",
   "execution_count": 32,
   "metadata": {},
   "outputs": [
    {
     "data": {
      "image/png": "[encoded data removed]",
      "text/plain": [
       "<Figure size 432x288 with 1 Axes>"
      ]
     },
     "metadata": {},
     "output_type": "display_data"
    }
   ],
   "source": [
    "# x = np.random.normal(size=100)\n",
    "sns.distplot(total_rainfall);"
   ]
  },
  {
   "cell_type": "markdown",
   "metadata": {},
   "source": [
    "# for normal distribution\n",
    "* P(mean - 1 * std <= X <= mean + 1 * std) ~ .68\n",
    "* P(mean - 2 * std <= X <= mean + 2 * std) ~ .95\n",
    "* P(mean - 3 * std <= X <= mean + 3 * std) ~ .99"
   ]
  },
  {
   "cell_type": "code",
   "execution_count": 33,
   "metadata": {},
   "outputs": [
    {
     "name": "stdout",
     "output_type": "stream",
     "text": [
      "with 68 % probability we can say that annual rainfall will lie between range [446.15371470155264 , 746.3669410361522]\n"
     ]
    }
   ],
   "source": [
    "#for 68 % confidence interval\n",
    "min = mean - 1 * std\n",
    "max = mean + 1 * std\n",
    "str = \"with 68 % probability we can say that annual rainfall will lie between range [{} , {}]\"\n",
    "print(str.format(min,max))"
   ]
  },
  {
   "cell_type": "code",
   "execution_count": 34,
   "metadata": {},
   "outputs": [
    {
     "name": "stdout",
     "output_type": "stream",
     "text": [
      "with 95 % probability we can say that annual rainfall will lie between range [296.0471015342529 , 896.473554203452]\n"
     ]
    }
   ],
   "source": [
    "#for 95 % confidence interval\n",
    "min = mean - 2 * std\n",
    "max = mean + 2 * std\n",
    "str = \"with 95 % probability we can say that annual rainfall will lie between range [{} , {}]\"\n",
    "print(str.format(min,max))"
   ]
  },
  {
   "cell_type": "markdown",
   "metadata": {},
   "source": [
    "# CDF"
   ]
  },
  {
   "cell_type": "code",
   "execution_count": 35,
   "metadata": {},
   "outputs": [
    {
     "data": {
      "text/plain": [
       "(array([0.01639344, 0.01639344, 0.03278689, 0.03278689, 0.03278689,\n",
       "        0.04918033, 0.08196721, 0.1147541 , 0.13114754, 0.21311475,\n",
       "        0.26229508, 0.32786885, 0.37704918, 0.42622951, 0.47540984,\n",
       "        0.52459016, 0.60655738, 0.62295082, 0.72131148, 0.78688525,\n",
       "        0.81967213, 0.85245902, 0.85245902, 0.90163934, 0.90163934,\n",
       "        0.90163934, 0.91803279, 0.93442623, 0.93442623, 1.        ]),\n",
       " array([251.17      , 273.33466667, 295.49933333, 317.664     ,\n",
       "        339.82866667, 361.99333333, 384.158     , 406.32266667,\n",
       "        428.48733333, 450.652     , 472.81666667, 494.98133333,\n",
       "        517.146     , 539.31066667, 561.47533333, 583.64      ,\n",
       "        605.80466667, 627.96933333, 650.134     , 672.29866667,\n",
       "        694.46333333, 716.628     , 738.79266667, 760.95733333,\n",
       "        783.122     , 805.28666667, 827.45133333, 849.616     ,\n",
       "        871.78066667, 893.94533333, 916.11      ]),\n",
       " <a list of 30 Patch objects>)"
      ]
     },
     "execution_count": 35,
     "metadata": {},
     "output_type": "execute_result"
    },
    {
     "data": {
      "image/png": "[encoded data removed]",
      "text/plain": [
       "<Figure size 432x288 with 1 Axes>"
      ]
     },
     "metadata": {},
     "output_type": "display_data"
    }
   ],
   "source": [
    "# sns.distplot(total_rainfall,hist_kws=dict(cumulative=True),kde_kws=dict(cumulative=True))\n",
    "# sns.kdeplot(total_rainfall,cumulative=True)\n",
    "plt.hist(total_rainfall,cumulative=True, density=True, bins=30)"
   ]
  },
  {
   "cell_type": "markdown",
   "metadata": {},
   "source": [
    "# Normality test"
   ]
  },
  {
   "cell_type": "markdown",
   "metadata": {},
   "source": [
    "* kstest"
   ]
  },
  {
   "cell_type": "code",
   "execution_count": 36,
   "metadata": {},
   "outputs": [
    {
     "name": "stdout",
     "output_type": "stream",
     "text": [
      "KstestResult(statistic=1.0, pvalue=0.0)\n"
     ]
    }
   ],
   "source": [
    "test= stats.kstest(total_rainfall,'norm')\n",
    "print(test)"
   ]
  },
  {
   "cell_type": "markdown",
   "metadata": {},
   "source": [
    "* qqplot"
   ]
  },
  {
   "cell_type": "code",
   "execution_count": 37,
   "metadata": {},
   "outputs": [
    {
     "data": {
      "image/png": "[encoded data removed]",
      "text/plain": [
       "<Figure size 432x288 with 1 Axes>"
      ]
     },
     "execution_count": 37,
     "metadata": {},
     "output_type": "execute_result"
    },
    {
     "data": {
      "image/png": "[encoded data removed]",
      "text/plain": [
       "<Figure size 432x288 with 1 Axes>"
      ]
     },
     "metadata": {},
     "output_type": "display_data"
    }
   ],
   "source": [
    "qqplot(total_rainfall, line='s')"
   ]
  },
  {
   "cell_type": "markdown",
   "metadata": {},
   "source": [
    "* Shapiro-Wilk Test"
   ]
  },
  {
   "cell_type": "code",
   "execution_count": 38,
   "metadata": {},
   "outputs": [
    {
     "name": "stdout",
     "output_type": "stream",
     "text": [
      "Statistics=0.981, p=0.458\n",
      "Sample looks Gaussian (fail to reject H0)\n"
     ]
    }
   ],
   "source": [
    "stat, p = stats.shapiro(total_rainfall)\n",
    "print('Statistics=%.3f, p=%.3f' % (stat, p))\n",
    "# interpret\n",
    "alpha = 0.05\n",
    "if p > alpha:\n",
    "\tprint('Sample looks Gaussian (fail to reject H0)')\n",
    "else:\n",
    "\tprint('Sample does not look Gaussian (reject H0)')"
   ]
  },
  {
   "cell_type": "markdown",
   "metadata": {},
   "source": [
    "## D’Agostino’s K^2 Test"
   ]
  },
  {
   "cell_type": "code",
   "execution_count": 39,
   "metadata": {},
   "outputs": [
    {
     "name": "stdout",
     "output_type": "stream",
     "text": [
      "Statistics=0.739, p=0.691\n",
      "Sample looks Gaussian (fail to reject H0)\n"
     ]
    }
   ],
   "source": [
    "stat, p = stats.normaltest(total_rainfall)\n",
    "print('Statistics=%.3f, p=%.3f' % (stat, p))\n",
    "# interpret\n",
    "alpha = 0.05\n",
    "if p > alpha:\n",
    "\tprint('Sample looks Gaussian (fail to reject H0)')\n",
    "else:\n",
    "\tprint('Sample does not look Gaussian (reject H0)')"
   ]
  },
  {
   "cell_type": "markdown",
   "metadata": {},
   "source": [
    "# Seasonal rainfall distribution"
   ]
  },
  {
   "cell_type": "code",
   "execution_count": 77,
   "metadata": {},
   "outputs": [
    {
     "data": {
      "text/html": [
       "<div>\n",
       "<style scoped>\n",
       "    .dataframe tbody tr th:only-of-type {\n",
       "        vertical-align: middle;\n",
       "    }\n",
       "\n",
       "    .dataframe tbody tr th {\n",
       "        vertical-align: top;\n",
       "    }\n",
       "\n",
       "    .dataframe thead th {\n",
       "        text-align: right;\n",
       "    }\n",
       "</style>\n",
       "<table border=\"1\" class=\"dataframe\">\n",
       "  <thead>\n",
       "    <tr style=\"text-align: right;\">\n",
       "      <th></th>\n",
       "      <th>month</th>\n",
       "      <th>max_rainfall</th>\n",
       "      <th>total_rainfall</th>\n",
       "      <th>avg_temp</th>\n",
       "      <th>min_temp</th>\n",
       "      <th>max_temp</th>\n",
       "    </tr>\n",
       "  </thead>\n",
       "  <tbody>\n",
       "    <tr>\n",
       "      <th>0</th>\n",
       "      <td>1</td>\n",
       "      <td>19.90</td>\n",
       "      <td>90.13</td>\n",
       "      <td>21.604173</td>\n",
       "      <td>15.21</td>\n",
       "      <td>25.64</td>\n",
       "    </tr>\n",
       "    <tr>\n",
       "      <th>1</th>\n",
       "      <td>2</td>\n",
       "      <td>9.38</td>\n",
       "      <td>47.80</td>\n",
       "      <td>23.365034</td>\n",
       "      <td>15.48</td>\n",
       "      <td>27.98</td>\n",
       "    </tr>\n",
       "    <tr>\n",
       "      <th>2</th>\n",
       "      <td>3</td>\n",
       "      <td>15.05</td>\n",
       "      <td>138.76</td>\n",
       "      <td>26.621787</td>\n",
       "      <td>19.93</td>\n",
       "      <td>30.62</td>\n",
       "    </tr>\n",
       "    <tr>\n",
       "      <th>3</th>\n",
       "      <td>4</td>\n",
       "      <td>22.08</td>\n",
       "      <td>253.18</td>\n",
       "      <td>29.541762</td>\n",
       "      <td>24.56</td>\n",
       "      <td>33.57</td>\n",
       "    </tr>\n",
       "    <tr>\n",
       "      <th>4</th>\n",
       "      <td>5</td>\n",
       "      <td>68.71</td>\n",
       "      <td>924.63</td>\n",
       "      <td>30.614060</td>\n",
       "      <td>25.97</td>\n",
       "      <td>34.54</td>\n",
       "    </tr>\n",
       "    <tr>\n",
       "      <th>5</th>\n",
       "      <td>6</td>\n",
       "      <td>320.34</td>\n",
       "      <td>7648.49</td>\n",
       "      <td>28.366693</td>\n",
       "      <td>23.69</td>\n",
       "      <td>33.15</td>\n",
       "    </tr>\n",
       "    <tr>\n",
       "      <th>6</th>\n",
       "      <td>7</td>\n",
       "      <td>132.59</td>\n",
       "      <td>9090.17</td>\n",
       "      <td>26.074578</td>\n",
       "      <td>23.24</td>\n",
       "      <td>29.94</td>\n",
       "    </tr>\n",
       "    <tr>\n",
       "      <th>7</th>\n",
       "      <td>8</td>\n",
       "      <td>96.67</td>\n",
       "      <td>7471.99</td>\n",
       "      <td>25.362028</td>\n",
       "      <td>22.92</td>\n",
       "      <td>27.95</td>\n",
       "    </tr>\n",
       "    <tr>\n",
       "      <th>8</th>\n",
       "      <td>9</td>\n",
       "      <td>122.58</td>\n",
       "      <td>8898.80</td>\n",
       "      <td>25.781889</td>\n",
       "      <td>22.62</td>\n",
       "      <td>29.24</td>\n",
       "    </tr>\n",
       "    <tr>\n",
       "      <th>9</th>\n",
       "      <td>10</td>\n",
       "      <td>78.12</td>\n",
       "      <td>3874.59</td>\n",
       "      <td>26.138372</td>\n",
       "      <td>22.30</td>\n",
       "      <td>29.86</td>\n",
       "    </tr>\n",
       "    <tr>\n",
       "      <th>10</th>\n",
       "      <td>11</td>\n",
       "      <td>109.64</td>\n",
       "      <td>1447.07</td>\n",
       "      <td>24.009042</td>\n",
       "      <td>18.75</td>\n",
       "      <td>28.06</td>\n",
       "    </tr>\n",
       "    <tr>\n",
       "      <th>11</th>\n",
       "      <td>12</td>\n",
       "      <td>42.28</td>\n",
       "      <td>355.52</td>\n",
       "      <td>22.056124</td>\n",
       "      <td>16.57</td>\n",
       "      <td>26.20</td>\n",
       "    </tr>\n",
       "  </tbody>\n",
       "</table>\n",
       "</div>"
      ],
      "text/plain": [
       "    month  max_rainfall  total_rainfall   avg_temp  min_temp  max_temp\n",
       "0       1         19.90           90.13  21.604173     15.21     25.64\n",
       "1       2          9.38           47.80  23.365034     15.48     27.98\n",
       "2       3         15.05          138.76  26.621787     19.93     30.62\n",
       "3       4         22.08          253.18  29.541762     24.56     33.57\n",
       "4       5         68.71          924.63  30.614060     25.97     34.54\n",
       "5       6        320.34         7648.49  28.366693     23.69     33.15\n",
       "6       7        132.59         9090.17  26.074578     23.24     29.94\n",
       "7       8         96.67         7471.99  25.362028     22.92     27.95\n",
       "8       9        122.58         8898.80  25.781889     22.62     29.24\n",
       "9      10         78.12         3874.59  26.138372     22.30     29.86\n",
       "10     11        109.64         1447.07  24.009042     18.75     28.06\n",
       "11     12         42.28          355.52  22.056124     16.57     26.20"
      ]
     },
     "execution_count": 77,
     "metadata": {},
     "output_type": "execute_result"
    }
   ],
   "source": [
    "# july-sept\n",
    "# oct-mar\n",
    "# apr - june\n",
    "\n",
    "janMar = month_agg[0:3][\"total_rainfall\"].sum() #rabi 2\n",
    "aprJune = month_agg[3:6][\"total_rainfall\"].sum() #jaid\n",
    "julySept = month_agg[6:9][\"total_rainfall\"].sum() #kharif\n",
    "octDec = month_agg[9:12][\"total_rainfall\"].sum() #rabi 1\n",
    "\n",
    "# plt.bar(['jan-mar','apr-june','july-sept','oct-dec'],[janMar,aprJune,julySept,octDec])\n",
    "month_agg"
   ]
  },
  {
   "cell_type": "code",
   "execution_count": 72,
   "metadata": {},
   "outputs": [
    {
     "data": {
      "image/png": "[encoded data removed]",
      "text/plain": [
       "<Figure size 432x288 with 1 Axes>"
      ]
     },
     "metadata": {},
     "output_type": "display_data"
    }
   ],
   "source": [
    "plt.bar(month_agg['month'],month_agg['total_rainfall'])\n",
    "plt.title('total rainfall(mm) per month')\n",
    "plt.xlabel('month')\n",
    "plt.ylabel('Total rainfall(mm)')\n",
    "plt.show()"
   ]
  },
  {
   "cell_type": "code",
   "execution_count": 43,
   "metadata": {},
   "outputs": [
    {
     "data": {
      "text/html": [
       "<div>\n",
       "<style scoped>\n",
       "    .dataframe tbody tr th:only-of-type {\n",
       "        vertical-align: middle;\n",
       "    }\n",
       "\n",
       "    .dataframe tbody tr th {\n",
       "        vertical-align: top;\n",
       "    }\n",
       "\n",
       "    .dataframe thead th {\n",
       "        text-align: right;\n",
       "    }\n",
       "</style>\n",
       "<table border=\"1\" class=\"dataframe\">\n",
       "  <thead>\n",
       "    <tr style=\"text-align: right;\">\n",
       "      <th></th>\n",
       "      <th>Year</th>\n",
       "      <th>Month</th>\n",
       "      <th>Rainfall</th>\n",
       "    </tr>\n",
       "  </thead>\n",
       "  <tbody>\n",
       "    <tr>\n",
       "      <th>5</th>\n",
       "      <td>1952</td>\n",
       "      <td>6</td>\n",
       "      <td>112.57</td>\n",
       "    </tr>\n",
       "    <tr>\n",
       "      <th>17</th>\n",
       "      <td>1953</td>\n",
       "      <td>6</td>\n",
       "      <td>90.68</td>\n",
       "    </tr>\n",
       "    <tr>\n",
       "      <th>29</th>\n",
       "      <td>1954</td>\n",
       "      <td>6</td>\n",
       "      <td>102.80</td>\n",
       "    </tr>\n",
       "    <tr>\n",
       "      <th>41</th>\n",
       "      <td>1955</td>\n",
       "      <td>6</td>\n",
       "      <td>43.84</td>\n",
       "    </tr>\n",
       "    <tr>\n",
       "      <th>53</th>\n",
       "      <td>1956</td>\n",
       "      <td>6</td>\n",
       "      <td>39.21</td>\n",
       "    </tr>\n",
       "    <tr>\n",
       "      <th>...</th>\n",
       "      <td>...</td>\n",
       "      <td>...</td>\n",
       "      <td>...</td>\n",
       "    </tr>\n",
       "    <tr>\n",
       "      <th>701</th>\n",
       "      <td>2010</td>\n",
       "      <td>6</td>\n",
       "      <td>175.65</td>\n",
       "    </tr>\n",
       "    <tr>\n",
       "      <th>713</th>\n",
       "      <td>2011</td>\n",
       "      <td>6</td>\n",
       "      <td>72.76</td>\n",
       "    </tr>\n",
       "    <tr>\n",
       "      <th>725</th>\n",
       "      <td>2012</td>\n",
       "      <td>6</td>\n",
       "      <td>30.95</td>\n",
       "    </tr>\n",
       "    <tr>\n",
       "      <th>737</th>\n",
       "      <td>2013</td>\n",
       "      <td>6</td>\n",
       "      <td>172.01</td>\n",
       "    </tr>\n",
       "    <tr>\n",
       "      <th>749</th>\n",
       "      <td>2014</td>\n",
       "      <td>6</td>\n",
       "      <td>12.74</td>\n",
       "    </tr>\n",
       "  </tbody>\n",
       "</table>\n",
       "<p>63 rows × 3 columns</p>\n",
       "</div>"
      ],
      "text/plain": [
       "     Year  Month  Rainfall\n",
       "5    1952      6    112.57\n",
       "17   1953      6     90.68\n",
       "29   1954      6    102.80\n",
       "41   1955      6     43.84\n",
       "53   1956      6     39.21\n",
       "..    ...    ...       ...\n",
       "701  2010      6    175.65\n",
       "713  2011      6     72.76\n",
       "725  2012      6     30.95\n",
       "737  2013      6    172.01\n",
       "749  2014      6     12.74\n",
       "\n",
       "[63 rows x 3 columns]"
      ]
     },
     "execution_count": 43,
     "metadata": {},
     "output_type": "execute_result"
    }
   ],
   "source": [
    "gb_df = df.groupby(['Year','Month'],as_index=False)\n",
    "year_month=gb_df['Rainfall'].sum()\n",
    "july_trend = year_month[year_month['Month'] == 6]\n",
    "july_trend"
   ]
  },
  {
   "cell_type": "code",
   "execution_count": null,
   "metadata": {},
   "outputs": [],
   "source": [
    "plt.plot(july_trend['Year'],july_trend['Rainfall'])"
   ]
  },
  {
   "cell_type": "code",
   "execution_count": null,
   "metadata": {},
   "outputs": [],
   "source": []
  }
 ],
 "metadata": {
  "kernelspec": {
   "display_name": "Python 3",
   "language": "python",
   "name": "python3"
  },
  "language_info": {
   "codemirror_mode": {
    "name": "ipython",
    "version": 3
   },
   "file_extension": ".py",
   "mimetype": "text/x-python",
   "name": "python",
   "nbconvert_exporter": "python",
   "pygments_lexer": "ipython3",
   "version": "3.6.8"
  }
 },
 "nbformat": 4,
 "nbformat_minor": 2
}
